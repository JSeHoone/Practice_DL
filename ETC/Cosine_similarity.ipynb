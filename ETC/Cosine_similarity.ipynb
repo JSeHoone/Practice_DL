{
 "cells": [
  {
   "cell_type": "code",
   "execution_count": 69,
   "metadata": {},
   "outputs": [
    {
     "name": "stdout",
     "output_type": "stream",
     "text": [
      "torch.Size([1, 3]) torch.Size([1, 3])\n",
      "[[0.5090391]]\n",
      "tensor([0.5090])\n"
     ]
    }
   ],
   "source": [
    "import numpy as np\n",
    "import torch\n",
    "## 1차원인 경우를 생각해서 해보자\n",
    "c = torch.randn(1,3)\n",
    "d = torch.randn(1,3)\n",
    "print(c.shape, d.shape)\n",
    "# 분모 \n",
    "vec_c = np.linalg.norm(c)\n",
    "vec_d = np.linalg.norm(d)\n",
    "\n",
    "# 분자\n",
    "son = np.dot(c,d.T)\n",
    "\n",
    "# 계산\n",
    "print(son / (vec_c * vec_d))\n",
    "\n",
    "## pytorch cos\n",
    "cos = torch.nn.CosineSimilarity(dim=1, eps=1e-6) # dimention 1은 열의 값을 가지고 내적하는 것\n",
    "print(cos(c,d))"
   ]
  },
  {
   "cell_type": "code",
   "execution_count": 11,
   "metadata": {},
   "outputs": [
    {
     "name": "stdout",
     "output_type": "stream",
     "text": [
      "tensor([[-1.4957, -1.9285, -0.2320],\n",
      "        [-0.3472, -1.1279,  0.3151]])\n",
      "tensor([[-0.9709,  0.4931, -0.2877],\n",
      "        [ 1.9940,  1.8288, -0.5981]])\n"
     ]
    }
   ],
   "source": [
    "# 2차원인 경우\n",
    "a = torch.randn(2,3) # 2 by 3 행렬\n",
    "b = torch.randn(2,3)\n",
    "print(a)\n",
    "print(b)"
   ]
  },
  {
   "cell_type": "code",
   "execution_count": 96,
   "metadata": {},
   "outputs": [
    {
     "name": "stdout",
     "output_type": "stream",
     "text": [
      "2.451584 1.1263523\n",
      "1.2214428 2.7709858\n"
     ]
    }
   ],
   "source": [
    "# 분모 = 두 벡터 크기의 곱\n",
    "vector_a= np.linalg.norm(a[0])\n",
    "vector_b = np.linalg.norm(b[0])\n",
    "vector_x = np.linalg.norm(a[1])\n",
    "vector_y = np.linalg.norm(b[1])\n",
    "print(vector_a, vector_b)\n",
    "print(vector_x ,vector_y)\n",
    "print('=' * 10)"
   ]
  },
  {
   "cell_type": "code",
   "execution_count": 97,
   "metadata": {},
   "outputs": [
    {
     "name": "stdout",
     "output_type": "stream",
     "text": [
      "0.5679307 -2.9434323\n"
     ]
    }
   ],
   "source": [
    "# 분자 = 두 벡터의 내적\n",
    "numerator_ab = np.dot(a[0],b[0].T)\n",
    "numerator_xy = np.dot(a[1],b[1].T)\n",
    "print(numerator_ab, numerator_xy)"
   ]
  },
  {
   "cell_type": "code",
   "execution_count": 102,
   "metadata": {},
   "outputs": [
    {
     "name": "stdout",
     "output_type": "stream",
     "text": [
      "Cosine Sim of First Row: 0.2057\n",
      "Cosine Sim of Second Row: -0.8697\n",
      "tensor([ 0.2057, -0.8697])\n"
     ]
    }
   ],
   "source": [
    "# 코사인 유사도 계산\n",
    "print(f\"Cosine Sim of First Row: {numerator_ab / (vector_a * vector_b):.4f}\")\n",
    "print(f\"Cosine Sim of Second Row: {numerator_xy / (vector_x * vector_y):.4f}\")\n",
    "\n",
    "# 확인하기 위한 torch.nn.CosineSimilarity\n",
    "cos = torch.nn.CosineSimilarity(dim = 1, eps = 1e-6)\n",
    "print(cos(a,b))"
   ]
  },
  {
   "attachments": {},
   "cell_type": "markdown",
   "metadata": {},
   "source": [
    "---"
   ]
  },
  {
   "attachments": {},
   "cell_type": "markdown",
   "metadata": {},
   "source": [
    "SimCLR에서 사용하는 Cosine Similarity 계산해보기"
   ]
  },
  {
   "cell_type": "code",
   "execution_count": 12,
   "metadata": {},
   "outputs": [
    {
     "name": "stdout",
     "output_type": "stream",
     "text": [
      "torch.Size([32, 1, 28, 28])\n",
      "torch.Size([32, 1, 28, 28])\n"
     ]
    }
   ],
   "source": [
    "## 그렇다면 SSL에서 사용한 Cosinesim dim =2는 어떻게 계산이 될까\n",
    "# 해당 코드에서 data의 shape은 (32,1,28,28) 흑백이여서 channel수가 1이다\n",
    "import torch\n",
    "import numpy as np\n",
    "# SSL 코드에서는 pair로 들어갔기 때문이다.\n",
    "a0 = torch.randn(32,1,28,28) # original data\n",
    "a1 = torch.randn(32,1,28,28) # augmentation data\n",
    "print(a0.shape)\n",
    "print(a1.shape)"
   ]
  },
  {
   "cell_type": "code",
   "execution_count": 17,
   "metadata": {},
   "outputs": [
    {
     "name": "stdout",
     "output_type": "stream",
     "text": [
      "torch.Size([64, 100])\n"
     ]
    }
   ],
   "source": [
    "import torch.nn as nn\n",
    "import torch.nn.functional as F\n",
    "\n",
    "class CNN(nn.Module):\n",
    "    def __init__(self):\n",
    "        super(CNN, self).__init__()\n",
    "        self.conv1 = nn.Conv2d(in_channels=1, out_channels=10, kernel_size=5, stride=1)\n",
    "        self.conv2 = nn.Conv2d(in_channels=10, out_channels=20, kernel_size=5, stride=1)\n",
    "        self.fc = nn.Linear(4 * 4 * 20, 100)\n",
    "\n",
    "    def forward(self, x):\n",
    "        x = F.relu(self.conv1(x)) # (batch, 1, 28, 28) -> (batch, 10, 24, 24)\n",
    "\n",
    "        x = F.max_pool2d(x, kernel_size=2, stride=2) # (batch, 10, 24, 24) -> (batch, 10, 12, 12)\n",
    "\n",
    "        x = F.relu(self.conv2(x)) # (batch, 10, 12, 12) -> (batch, 20, 8, 8)\n",
    "\n",
    "        x = F.max_pool2d(x, kernel_size=2, stride=2) # (batch, 20, 8, 8) -> (batch, 20, 4, 4)\n",
    "\n",
    "        x = x.view(-1, 4 * 4 * 20) # (batch, 20, 4, 4) -> (batch, 320)\n",
    "\n",
    "        x = F.relu(self.fc(x)) # (batch, 320) -> (batch, 100)\n",
    "        return x # (batch, 100)\n",
    "model = CNN()\n",
    "\n",
    "# 위 모델에 a0와 a1의 데이터가 들어가서 embedding을 만들어 냄\n",
    "positive = model(a0)\n",
    "negative = model(a1)\n",
    "\n",
    "z = torch.cat((positive, negative), dim=0) \n",
    "print(z.shape)"
   ]
  },
  {
   "cell_type": "code",
   "execution_count": 19,
   "metadata": {},
   "outputs": [
    {
     "name": "stdout",
     "output_type": "stream",
     "text": [
      "torch.Size([1, 64, 100])\n",
      "torch.Size([64, 1, 100])\n"
     ]
    }
   ],
   "source": [
    "# 코사인 유사도를 계산할 때 unsqueeze(0)과 1을 넣어서 계산을 해주게 된다. \n",
    "print(z.unsqueeze(0).shape)\n",
    "print(z.unsqueeze(1).shape)"
   ]
  },
  {
   "cell_type": "code",
   "execution_count": 23,
   "metadata": {},
   "outputs": [
    {
     "data": {
      "text/plain": [
       "torch.Size([64, 64])"
      ]
     },
     "execution_count": 23,
     "metadata": {},
     "output_type": "execute_result"
    }
   ],
   "source": [
    "a = z.unsqueeze(0)\n",
    "b = z.unsqueeze(1)\n",
    "cos = torch.nn.CosineSimilarity(dim = 2)\n",
    "cos(a,b).shape"
   ]
  },
  {
   "cell_type": "code",
   "execution_count": 35,
   "metadata": {},
   "outputs": [
    {
     "name": "stdout",
     "output_type": "stream",
     "text": [
      "64\n",
      "64\n"
     ]
    }
   ],
   "source": [
    "# dim =2를 해주었다는 이야기는 C (2차원)의 데이터를 가지고 코사인 유사도를 측정하겠다는 것이니\n",
    "cos_list = []\n",
    "for x in a:\n",
    "    x = x.detach().numpy()\n",
    "    vector_a = np.linalg.norm(x) # 벡터의 크기\n",
    "    for y in b:\n",
    "        y= y.detach().numpy()\n",
    "        vector_b = np.linalg.norm(y) # 벡터의 크기\n",
    "\n",
    "        numerator = np.dot(x,y.T) # 분모\n",
    "\n",
    "        ## cosine 유사도 계산\n",
    "        cosnie_sim = numerator / (vector_a * vector_b)\n",
    "        cos_list.append(cosnie_sim)\n",
    "\n",
    "# print(cos_list)\n",
    "print(len(cos_list))\n",
    "print(len(cos_list[0]))\n",
    "\n"
   ]
  },
  {
   "cell_type": "code",
   "execution_count": 38,
   "metadata": {},
   "outputs": [
    {
     "data": {
      "text/plain": [
       "array([[0.12915708],\n",
       "       [0.12252176],\n",
       "       [0.1328124 ],\n",
       "       [0.1169735 ],\n",
       "       [0.12281352],\n",
       "       [0.11899776],\n",
       "       [0.11801495],\n",
       "       [0.11059094],\n",
       "       [0.11588106],\n",
       "       [0.11815374],\n",
       "       [0.1134853 ],\n",
       "       [0.11922606],\n",
       "       [0.11015929],\n",
       "       [0.12637682],\n",
       "       [0.11286192],\n",
       "       [0.11396182],\n",
       "       [0.11444164],\n",
       "       [0.11045194],\n",
       "       [0.11191768],\n",
       "       [0.11539806],\n",
       "       [0.12780277],\n",
       "       [0.12572479],\n",
       "       [0.12006505],\n",
       "       [0.10807674],\n",
       "       [0.12459756],\n",
       "       [0.12320335],\n",
       "       [0.1147337 ],\n",
       "       [0.1153216 ],\n",
       "       [0.12477203],\n",
       "       [0.10225712],\n",
       "       [0.12090342],\n",
       "       [0.1186257 ],\n",
       "       [0.10002552],\n",
       "       [0.11033254],\n",
       "       [0.11839703],\n",
       "       [0.1131257 ],\n",
       "       [0.11126592],\n",
       "       [0.11267783],\n",
       "       [0.111331  ],\n",
       "       [0.1175622 ],\n",
       "       [0.12329023],\n",
       "       [0.10934812],\n",
       "       [0.11716717],\n",
       "       [0.12531376],\n",
       "       [0.11777568],\n",
       "       [0.11805354],\n",
       "       [0.12869275],\n",
       "       [0.1163554 ],\n",
       "       [0.1225323 ],\n",
       "       [0.10711832],\n",
       "       [0.11597393],\n",
       "       [0.11598431],\n",
       "       [0.12871039],\n",
       "       [0.10786876],\n",
       "       [0.11546288],\n",
       "       [0.12182861],\n",
       "       [0.11631635],\n",
       "       [0.12387988],\n",
       "       [0.12892736],\n",
       "       [0.1094308 ],\n",
       "       [0.11379252],\n",
       "       [0.11907232],\n",
       "       [0.12251248],\n",
       "       [0.1126026 ]], dtype=float32)"
      ]
     },
     "execution_count": 38,
     "metadata": {},
     "output_type": "execute_result"
    }
   ],
   "source": [
    "cos_list[0]"
   ]
  },
  {
   "cell_type": "code",
   "execution_count": 37,
   "metadata": {},
   "outputs": [
    {
     "name": "stdout",
     "output_type": "stream",
     "text": [
      "tensor([[1.0000, 0.9359, 0.9334,  ..., 0.9379, 0.9366, 0.9360],\n",
      "        [0.9359, 1.0000, 0.9388,  ..., 0.9290, 0.9311, 0.9424],\n",
      "        [0.9334, 0.9388, 1.0000,  ..., 0.9182, 0.9506, 0.9465],\n",
      "        ...,\n",
      "        [0.9379, 0.9290, 0.9182,  ..., 1.0000, 0.9331, 0.9347],\n",
      "        [0.9366, 0.9311, 0.9506,  ..., 0.9331, 1.0000, 0.9431],\n",
      "        [0.9360, 0.9424, 0.9465,  ..., 0.9347, 0.9431, 1.0000]],\n",
      "       grad_fn=<SumBackward1>)\n"
     ]
    }
   ],
   "source": [
    "print(cos(a,b))\n",
    "\n",
    "## shape은 같으나 값이 다르다"
   ]
  }
 ],
 "metadata": {
  "kernelspec": {
   "display_name": "pytorch_test",
   "language": "python",
   "name": "python3"
  },
  "language_info": {
   "codemirror_mode": {
    "name": "ipython",
    "version": 3
   },
   "file_extension": ".py",
   "mimetype": "text/x-python",
   "name": "python",
   "nbconvert_exporter": "python",
   "pygments_lexer": "ipython3",
   "version": "3.8.16"
  },
  "orig_nbformat": 4
 },
 "nbformat": 4,
 "nbformat_minor": 2
}
